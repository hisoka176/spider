{
 "cells": [
  {
   "cell_type": "code",
   "execution_count": 1,
   "metadata": {},
   "outputs": [
    {
     "name": "stdout",
     "output_type": "stream",
     "text": [
      "over\n"
     ]
    }
   ],
   "source": [
    "#! /usr/bin/env python3.5\n",
    "import sys\n",
    "from imp import reload\n",
    "from inspect import stack\n",
    "reload(sys)\n",
    "import os\n",
    "import re\n",
    "'''\n",
    "Created on 2017年3月15日\n",
    "\n",
    "@author: libin_m\n",
    "'''\n",
    "\n",
    "from selenium import webdriver\n",
    "import unittest\n",
    "from selenium.webdriver.common.by import By\n",
    "import time\n",
    "from selenium.webdriver.common.keys import Keys\n",
    "from selenium.webdriver.support.ui import WebDriverWait\n",
    "from selenium.webdriver.support import expected_conditions as EC\n",
    "import unittest\n",
    "import logging\n",
    "import multiprocessing\n",
    "print('over')"
   ]
  },
  {
   "cell_type": "code",
   "execution_count": 12,
   "metadata": {
    "collapsed": true
   },
   "outputs": [],
   "source": [
    "logging.basicConfig(filename='logger.text', level=logging.INFO)"
   ]
  },
  {
   "cell_type": "code",
   "execution_count": 48,
   "metadata": {},
   "outputs": [],
   "source": [
    "\n",
    "\n",
    "## 分发所有的url，加入url，需要加锁\n",
    "class Stack(object):\n",
    "    \n",
    "    def __init__(self,lock,regex):\n",
    "        \n",
    "        self.stack = list()\n",
    "        self.count = 0\n",
    "        self.lock = lock\n",
    "        self.urlCollection = set()\n",
    "        self.regex = regex\n",
    "        \n",
    "    def addUrl(self,url):\n",
    "        with lock:\n",
    "            logging.info(url)\n",
    "            # 对于已经提取的页面不再提取\n",
    "            match = self.regex.match(url)\n",
    "            if not match:\n",
    "                return ''\n",
    "            if url in self.urlCollection:\n",
    "                return\n",
    "            else:\n",
    "                self.urlCollection.add(url)\n",
    "            # 增加url\n",
    "            self.count += 1\n",
    "            self.stack.append(url)\n",
    "    \n",
    "    def getUrl(self):\n",
    "        with self.lock:\n",
    "        \n",
    "            if len(self.stack)==0:\n",
    "                url=''\n",
    "            else:\n",
    "                url=self.stack[0]\n",
    "                del self.stack[0]\n",
    "        return url\n",
    "\n",
    "\n",
    "## 功能添加网页，处理文本\n",
    "class WebPage(multiprocessing.Process):\n",
    "    def __init__(self,stack,url):\n",
    "        self.stack = stack\n",
    "        self.url = url\n",
    "        multiprocessing.Process.__init__(self)\n",
    "        self.driver = webdriver.Chrome()\n",
    "    def run(self):\n",
    "        self.driver.get(self.url)\n",
    "        tagAes = self.driver.find_elements_by_tag_name('a')\n",
    "        for tagA in tagAes:\n",
    "            url = tagA.get_property(\"a\")\n",
    "            self.tack.putUrl(url)\n",
    "    "
   ]
  },
  {
   "cell_type": "code",
   "execution_count": 49,
   "metadata": {},
   "outputs": [
    {
     "name": "stdout",
     "output_type": "stream",
     "text": [
      "http://sports.sohu.com/nba.shtml\n",
      "http://sports.sohu.com/zhongchao.shtml\n",
      "http://sports.sohu.com/xijia.shtml\n",
      "http://learning.sohu.com/20170114/n478695279.shtml\n"
     ]
    },
    {
     "name": "stderr",
     "output_type": "stream",
     "text": [
      "Process WebPage-86:\n",
      "Traceback (most recent call last):\n",
      "  File \"/usr/lib/python3.5/multiprocessing/process.py\", line 249, in _bootstrap\n",
      "    self.run()\n",
      "  File \"<ipython-input-48-076615bae24b>\", line 52, in run\n",
      "    self.tack.putUrl(url)\n",
      "AttributeError: 'WebPage' object has no attribute 'tack'\n",
      "Process WebPage-87:\n",
      "Traceback (most recent call last):\n",
      "  File \"/usr/lib/python3.5/multiprocessing/process.py\", line 249, in _bootstrap\n",
      "    self.run()\n",
      "  File \"<ipython-input-48-076615bae24b>\", line 52, in run\n",
      "    self.tack.putUrl(url)\n",
      "AttributeError: 'WebPage' object has no attribute 'tack'\n",
      "Process WebPage-85:\n",
      "Traceback (most recent call last):\n",
      "  File \"/usr/lib/python3.5/multiprocessing/process.py\", line 249, in _bootstrap\n",
      "    self.run()\n",
      "  File \"<ipython-input-48-076615bae24b>\", line 52, in run\n",
      "    self.tack.putUrl(url)\n",
      "AttributeError: 'WebPage' object has no attribute 'tack'\n",
      "Process WebPage-88:\n",
      "Traceback (most recent call last):\n",
      "  File \"/usr/lib/python3.5/multiprocessing/process.py\", line 249, in _bootstrap\n",
      "    self.run()\n",
      "  File \"<ipython-input-48-076615bae24b>\", line 52, in run\n",
      "    self.tack.putUrl(url)\n",
      "AttributeError: 'WebPage' object has no attribute 'tack'\n"
     ]
    },
    {
     "name": "stdout",
     "output_type": "stream",
     "text": [
      "http://learning.sohu.com/20170113/n478588542.shtml\n",
      "http://learning.sohu.com/20170111/n478369304.shtml\n",
      "http://learning.sohu.com/20170116/n478797554.shtml\n",
      "http://mt.sohu.com/tags/182.shtml\n"
     ]
    },
    {
     "name": "stderr",
     "output_type": "stream",
     "text": [
      "Process WebPage-92:\n",
      "Traceback (most recent call last):\n",
      "  File \"/usr/lib/python3.5/multiprocessing/process.py\", line 249, in _bootstrap\n",
      "    self.run()\n",
      "  File \"<ipython-input-48-076615bae24b>\", line 52, in run\n",
      "    self.tack.putUrl(url)\n",
      "AttributeError: 'WebPage' object has no attribute 'tack'\n",
      "Process WebPage-91:\n",
      "Traceback (most recent call last):\n",
      "  File \"/usr/lib/python3.5/multiprocessing/process.py\", line 249, in _bootstrap\n",
      "    self.run()\n",
      "  File \"<ipython-input-48-076615bae24b>\", line 49, in run\n",
      "    tagAes = self.driver.find_elements_by_tag_name('a')\n",
      "  File \"/home/hisoka176/.local/lib/python3.5/site-packages/selenium/webdriver/remote/webdriver.py\", line 414, in find_elements_by_tag_name\n",
      "    return self.find_elements(by=By.TAG_NAME, value=name)\n",
      "  File \"/home/hisoka176/.local/lib/python3.5/site-packages/selenium/webdriver/remote/webdriver.py\", line 810, in find_elements\n",
      "    'value': value})['value']\n",
      "  File \"/home/hisoka176/.local/lib/python3.5/site-packages/selenium/webdriver/remote/webdriver.py\", line 249, in execute\n",
      "    self.error_handler.check_response(response)\n",
      "  File \"/home/hisoka176/.local/lib/python3.5/site-packages/selenium/webdriver/remote/errorhandler.py\", line 193, in check_response\n",
      "    raise exception_class(message, screen, stacktrace)\n",
      "selenium.common.exceptions.NoSuchWindowException: Message: no such window: target window already closed\n",
      "from unknown error: web view not found\n",
      "  (Session info: chrome=57.0.2987.133)\n",
      "  (Driver info: chromedriver=2.24.417424 (c5c5ea873213ee72e3d0929b47482681555340c3),platform=Linux 4.4.0-72-generic x86_64)\n",
      "\n",
      "Process WebPage-90:\n",
      "Traceback (most recent call last):\n",
      "  File \"/usr/lib/python3.5/multiprocessing/process.py\", line 249, in _bootstrap\n",
      "    self.run()\n",
      "  File \"<ipython-input-48-076615bae24b>\", line 52, in run\n",
      "    self.tack.putUrl(url)\n",
      "AttributeError: 'WebPage' object has no attribute 'tack'\n",
      "Process WebPage-89:\n",
      "Traceback (most recent call last):\n",
      "  File \"/usr/lib/python3.5/multiprocessing/process.py\", line 249, in _bootstrap\n",
      "    self.run()\n",
      "  File \"<ipython-input-48-076615bae24b>\", line 52, in run\n",
      "    self.tack.putUrl(url)\n",
      "AttributeError: 'WebPage' object has no attribute 'tack'\n"
     ]
    },
    {
     "name": "stdout",
     "output_type": "stream",
     "text": [
      "http://mt.sohu.com/tags/192.shtml\n",
      "http://tv.sohu.com/20170321/n484143076.shtml?%20channeled=1200340001\n",
      "http://film.sohu.com/album/9297294.html?channeled=1200340002\n",
      "http://tv.sohu.com/20170322/n484314068.shtml?%20channeled=1200340003\n"
     ]
    },
    {
     "name": "stderr",
     "output_type": "stream",
     "text": [
      "Process WebPage-95:\n",
      "Traceback (most recent call last):\n",
      "  File \"/usr/lib/python3.5/multiprocessing/process.py\", line 249, in _bootstrap\n",
      "    self.run()\n",
      "  File \"<ipython-input-48-076615bae24b>\", line 52, in run\n",
      "    self.tack.putUrl(url)\n",
      "AttributeError: 'WebPage' object has no attribute 'tack'\n",
      "Process WebPage-94:\n",
      "Traceback (most recent call last):\n",
      "  File \"/usr/lib/python3.5/multiprocessing/process.py\", line 249, in _bootstrap\n",
      "    self.run()\n",
      "  File \"<ipython-input-48-076615bae24b>\", line 52, in run\n",
      "    self.tack.putUrl(url)\n",
      "AttributeError: 'WebPage' object has no attribute 'tack'\n",
      "Process WebPage-96:\n",
      "Traceback (most recent call last):\n",
      "  File \"/usr/lib/python3.5/multiprocessing/process.py\", line 249, in _bootstrap\n",
      "    self.run()\n",
      "  File \"<ipython-input-48-076615bae24b>\", line 52, in run\n",
      "    self.tack.putUrl(url)\n",
      "AttributeError: 'WebPage' object has no attribute 'tack'\n"
     ]
    },
    {
     "name": "stdout",
     "output_type": "stream",
     "text": [
      "http://film.sohu.com/album/9297251.html?%20channeled=1200340004\n",
      "http://www.sohu.com/house.focus.cn/daogou/11382695.html\n",
      "http://news.sohu.com/20170415/n488543319.shtml?fi\n",
      "http://news.sohu.com/20170414/n488473484.shtml?fi\n"
     ]
    },
    {
     "name": "stderr",
     "output_type": "stream",
     "text": [
      "Process WebPage-97:\n",
      "Traceback (most recent call last):\n",
      "  File \"/usr/lib/python3.5/multiprocessing/process.py\", line 249, in _bootstrap\n",
      "    self.run()\n",
      "  File \"<ipython-input-48-076615bae24b>\", line 52, in run\n",
      "    self.tack.putUrl(url)\n",
      "AttributeError: 'WebPage' object has no attribute 'tack'\n",
      "Process WebPage-99:\n",
      "Traceback (most recent call last):\n",
      "  File \"/usr/lib/python3.5/multiprocessing/process.py\", line 249, in _bootstrap\n",
      "    self.run()\n",
      "  File \"<ipython-input-48-076615bae24b>\", line 52, in run\n",
      "    self.tack.putUrl(url)\n",
      "AttributeError: 'WebPage' object has no attribute 'tack'\n",
      "Process WebPage-100:\n",
      "Traceback (most recent call last):\n",
      "  File \"/usr/lib/python3.5/multiprocessing/process.py\", line 249, in _bootstrap\n",
      "    self.run()\n",
      "  File \"<ipython-input-48-076615bae24b>\", line 52, in run\n",
      "    self.tack.putUrl(url)\n",
      "AttributeError: 'WebPage' object has no attribute 'tack'\n"
     ]
    }
   ],
   "source": [
    "# 锁\n",
    "lock = multiprocessing.Lock()\n",
    "# 要爬取网页的url正则表达式\n",
    "regex = re.compile('https?:\\/\\/[a-z]+?\\.sohu.com\\/.*\\.s?html')\n",
    "# 栈结构\n",
    "stack = Stack(lock,regex)\n",
    "# chrome驱动\n",
    "driver = webdriver.Chrome()\n",
    "driver.get(\"http://www.sohu.com\")\n",
    "tagAes = driver.find_elements_by_tag_name(\"a\")\n",
    "for aElement in tagAes:\n",
    "    url = aElement.get_property('href')\n",
    "    stack.addUrl(url)\n",
    "driver.quit()\n",
    "for j in range(4):\n",
    "    pool = list()\n",
    "    for i in range(4):\n",
    "        url = stack.getUrl()\n",
    "        print(url)\n",
    "        pool.append(WebPage(stack,url))\n",
    "    for process in pool:\n",
    "        process.start()\n",
    "        \n",
    "    for process in pool:\n",
    "        process.join()\n",
    "    "
   ]
  },
  {
   "cell_type": "code",
   "execution_count": 47,
   "metadata": {},
   "outputs": [
    {
     "name": "stdout",
     "output_type": "stream",
     "text": [
      "yes\n"
     ]
    }
   ],
   "source": [
    "regex = re.compile('https?:\\/\\/[a-z]+?\\.sohu.com\\/.*\\.s?html')\n",
    "url = 'fdsfs'\n",
    "match = regex.match(url)\n",
    "if not match:\n",
    "    print('yes')"
   ]
  }
 ],
 "metadata": {
  "kernelspec": {
   "display_name": "Python 3",
   "language": "python",
   "name": "python3"
  },
  "language_info": {
   "codemirror_mode": {
    "name": "ipython",
    "version": 3
   },
   "file_extension": ".py",
   "mimetype": "text/x-python",
   "name": "python",
   "nbconvert_exporter": "python",
   "pygments_lexer": "ipython3",
   "version": "3.5.2"
  }
 },
 "nbformat": 4,
 "nbformat_minor": 2
}
